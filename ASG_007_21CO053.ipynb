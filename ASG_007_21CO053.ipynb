{
  "nbformat": 4,
  "nbformat_minor": 0,
  "metadata": {
    "colab": {
      "provenance": []
    },
    "kernelspec": {
      "name": "python3",
      "display_name": "Python 3"
    },
    "language_info": {
      "name": "python"
    }
  },
  "cells": [
    {
      "cell_type": "markdown",
      "source": [
        "# DSBDA ASSIGNMENT-07\n",
        "NAME : AKSHADA KAKADE\n",
        "\n",
        "CLASS : TE COMP A (21CO053)"
      ],
      "metadata": {
        "id": "CRd3eENrsLZ_"
      }
    },
    {
      "cell_type": "markdown",
      "source": [
        "**Title of the Assignment:**\n",
        "1. Extract Sample document and apply following document preprocessing methods:\n",
        "Tokenization, POS Tagging, stop words removal, Stemming and Lemmatization.\n",
        "2. Create representation of document by calculating Term Frequency and Inverse Document\n",
        "Frequency."
      ],
      "metadata": {
        "id": "ioFLr6omgccs"
      }
    },
    {
      "cell_type": "markdown",
      "source": [
        "**Download the required packages**"
      ],
      "metadata": {
        "id": "iQIAsJ-5hGKH"
      }
    },
    {
      "cell_type": "code",
      "source": [
        "import nltk\n",
        "nltk.download('punkt')     #FOR INSTALLTION\n",
        "nltk.download('stopwords') #FOR STOP WORD REMOVAL\n",
        "nltk.download('wordnet')   # FOR LEMMATIZATION\n",
        "nltk.download('averaged_perceptron_tagger') #FOR POS TAGGING"
      ],
      "metadata": {
        "colab": {
          "base_uri": "https://localhost:8080/"
        },
        "id": "Ab1bS5YEggud",
        "outputId": "5e9ecc11-7321-49d4-a8ee-672c22f46317"
      },
      "execution_count": null,
      "outputs": [
        {
          "output_type": "stream",
          "name": "stderr",
          "text": [
            "[nltk_data] Downloading package punkt to /root/nltk_data...\n",
            "[nltk_data]   Package punkt is already up-to-date!\n",
            "[nltk_data] Downloading package stopwords to /root/nltk_data...\n",
            "[nltk_data]   Unzipping corpora/stopwords.zip.\n",
            "[nltk_data] Downloading package wordnet to /root/nltk_data...\n",
            "[nltk_data] Downloading package averaged_perceptron_tagger to\n",
            "[nltk_data]     /root/nltk_data...\n",
            "[nltk_data]   Unzipping taggers/averaged_perceptron_tagger.zip.\n"
          ]
        },
        {
          "output_type": "execute_result",
          "data": {
            "text/plain": [
              "True"
            ]
          },
          "metadata": {},
          "execution_count": 2
        }
      ]
    },
    {
      "cell_type": "markdown",
      "source": [
        "**Initialize the text**"
      ],
      "metadata": {
        "id": "BfEg20cAhHqO"
      }
    },
    {
      "cell_type": "code",
      "source": [
        "text= \"Tokenization is the first step in text analytics. The process of breaking down a text paragraph into smaller chunks such as words or sentences is called Tokenization.\""
      ],
      "metadata": {
        "id": "-tLAYb5_g-5Y"
      },
      "execution_count": null,
      "outputs": []
    },
    {
      "cell_type": "markdown",
      "source": [
        "**TOKENIZATION**"
      ],
      "metadata": {
        "id": "_mC_Yl4_hQWi"
      }
    },
    {
      "cell_type": "code",
      "source": [
        "#Sentence Tokenization\n",
        "from nltk.tokenize import sent_tokenize\n",
        "tokenized_text= sent_tokenize(text)\n",
        "print(tokenized_text)"
      ],
      "metadata": {
        "colab": {
          "base_uri": "https://localhost:8080/"
        },
        "id": "d-ijxuwzhQqt",
        "outputId": "696db1b4-7cb8-40f4-bea2-3eabd55f4a5f"
      },
      "execution_count": null,
      "outputs": [
        {
          "output_type": "stream",
          "name": "stdout",
          "text": [
            "['Tokenization is the first step in text analytics.', 'The process of breaking down a text paragraph into smaller chunks such as words or sentences is called Tokenization.']\n"
          ]
        }
      ]
    },
    {
      "cell_type": "code",
      "source": [
        "#Word Tokenization\n",
        "from nltk.tokenize import word_tokenize\n",
        "tokenized_word=word_tokenize(text)\n",
        "print(tokenized_word)"
      ],
      "metadata": {
        "colab": {
          "base_uri": "https://localhost:8080/"
        },
        "id": "1Z9SM692hii8",
        "outputId": "d2e0b964-8fe2-4bb9-cea5-e392932b0947"
      },
      "execution_count": null,
      "outputs": [
        {
          "output_type": "stream",
          "name": "stdout",
          "text": [
            "['Tokenization', 'is', 'the', 'first', 'step', 'in', 'text', 'analytics', '.', 'The', 'process', 'of', 'breaking', 'down', 'a', 'text', 'paragraph', 'into', 'smaller', 'chunks', 'such', 'as', 'words', 'or', 'sentences', 'is', 'called', 'Tokenization', '.']\n"
          ]
        }
      ]
    },
    {
      "cell_type": "markdown",
      "source": [
        "**Removing Punctuations and Stop Word**"
      ],
      "metadata": {
        "id": "UWDoLgPChr1M"
      }
    },
    {
      "cell_type": "code",
      "source": [
        "# print stop words of English\n",
        "from nltk.corpus import stopwords\n",
        "stop_words=set(stopwords.words(\"english\"))\n",
        "print(stop_words)"
      ],
      "metadata": {
        "colab": {
          "base_uri": "https://localhost:8080/"
        },
        "id": "orwEikfnhs_a",
        "outputId": "841c77c7-a765-423c-dc79-d75e563431fe"
      },
      "execution_count": null,
      "outputs": [
        {
          "output_type": "stream",
          "name": "stdout",
          "text": [
            "{'so', \"weren't\", 's', 'too', 'both', 'at', 'we', 'about', 're', 'very', 'who', \"don't\", 'further', 'each', 'only', 'after', 'couldn', 'himself', 'aren', 'now', 'needn', \"you're\", 't', 'she', 'ourselves', 'in', 'm', 'nor', 'me', 'into', 'am', 'then', 'more', 'not', 'ours', 'through', 'there', 'his', 'your', 'during', 'having', 'has', \"won't\", 'the', 'does', 'hadn', 'mightn', \"should've\", 'over', \"doesn't\", 'are', 'mustn', 'were', 'below', 've', \"needn't\", 'few', 'd', 'them', 'just', 'that', 'all', \"wasn't\", 'why', 'wouldn', 'do', 'had', 'up', 'when', 'being', 'because', 'no', 'for', 'or', \"wouldn't\", 'from', 'wasn', 'y', \"you've\", 'any', 'o', 'i', \"that'll\", 'doesn', 'if', 'll', 'here', 'you', 'myself', 'before', 'yours', 'with', 'he', 'a', 'won', \"hadn't\", \"hasn't\", 'they', 'hasn', 'while', 'down', 'between', 'isn', 'doing', 'such', 'ma', 'have', \"isn't\", 'my', 'hers', 'themselves', 'this', \"you'd\", 'other', 'an', \"didn't\", 'theirs', 'her', 'haven', \"haven't\", 'by', 'should', 'above', 'didn', 'him', 'and', 'than', 'our', 'on', 'is', 'again', 'where', \"mustn't\", 'weren', \"she's\", 'herself', \"shouldn't\", 'it', 'own', \"mightn't\", 'most', 'those', 'yourselves', 'ain', 'until', 'been', \"couldn't\", 'these', 'under', 'its', 'off', 'yourself', 'shouldn', 'whom', \"it's\", 'to', 'shan', 'don', 'itself', 'how', 'as', 'but', 'can', 'did', 'which', \"you'll\", 'of', \"shan't\", 'against', 'what', 'out', 'once', 'same', 'be', 'some', \"aren't\", 'will', 'was', 'their'}\n"
          ]
        }
      ]
    },
    {
      "cell_type": "code",
      "source": [
        "text= \"How to remove stop words with NLTK library in Python?\"\n",
        "token = word_tokenize(text)\n",
        "clean_token =[]\n",
        "for word in token:\n",
        "  if word not in stop_words:\n",
        "    clean_token.append(word)\n",
        "\n",
        "print(\"this is the Tokenized Sentence : \",token)\n",
        "print(\"this is the Filterd Sentence(clean version) : \",clean_token)"
      ],
      "metadata": {
        "colab": {
          "base_uri": "https://localhost:8080/"
        },
        "id": "U_yYaDI4h8zu",
        "outputId": "5fc05874-3f4e-42c0-c0f0-076ad1ddabae"
      },
      "execution_count": null,
      "outputs": [
        {
          "output_type": "stream",
          "name": "stdout",
          "text": [
            "this is the Tokenized Sentence :  ['How', 'to', 'remove', 'stop', 'words', 'with', 'NLTK', 'library', 'in', 'Python', '?']\n",
            "this is the Filterd Sentence(clean version) :  ['How', 'remove', 'stop', 'words', 'NLTK', 'library', 'Python', '?']\n"
          ]
        }
      ]
    },
    {
      "cell_type": "code",
      "source": [
        "token"
      ],
      "metadata": {
        "colab": {
          "base_uri": "https://localhost:8080/"
        },
        "id": "EgoWvKp5jkAj",
        "outputId": "b1c54c7a-7b9d-490c-d8be-1787a686c658"
      },
      "execution_count": null,
      "outputs": [
        {
          "output_type": "execute_result",
          "data": {
            "text/plain": [
              "['How',\n",
              " 'to',\n",
              " 'remove',\n",
              " 'stop',\n",
              " 'words',\n",
              " 'with',\n",
              " 'NLTK',\n",
              " 'library',\n",
              " 'in',\n",
              " 'Python',\n",
              " '?']"
            ]
          },
          "metadata": {},
          "execution_count": 25
        }
      ]
    },
    {
      "cell_type": "code",
      "source": [
        "words = [clean_token.lower() for clean_token in clean_token if clean_token.isalpha()]"
      ],
      "metadata": {
        "id": "6N0aPYZbliEl"
      },
      "execution_count": null,
      "outputs": []
    },
    {
      "cell_type": "code",
      "source": [
        "print(words)"
      ],
      "metadata": {
        "colab": {
          "base_uri": "https://localhost:8080/"
        },
        "id": "IYiI8ROQlsKV",
        "outputId": "eb3ddf0d-19a6-44d4-a780-cf1459926ec7"
      },
      "execution_count": null,
      "outputs": [
        {
          "output_type": "stream",
          "name": "stdout",
          "text": [
            "['how', 'remove', 'stop', 'words', 'nltk', 'library', 'python']\n"
          ]
        }
      ]
    },
    {
      "cell_type": "markdown",
      "source": [
        "**Perform Stemming**"
      ],
      "metadata": {
        "id": "JbwN0VdukpaL"
      }
    },
    {
      "cell_type": "code",
      "source": [
        "from nltk.stem import PorterStemmer\n",
        "e_words= [\"wait\", \"waiting\", \"waited\", \"waits\"]\n",
        "ps =PorterStemmer()\n",
        "for w in e_words:\n",
        "  rootWord=ps.stem(w)\n",
        "print(rootWord)"
      ],
      "metadata": {
        "colab": {
          "base_uri": "https://localhost:8080/"
        },
        "id": "K9bNGSKEksmd",
        "outputId": "95f53bf8-58e3-4c8b-fce5-c857ee62714f"
      },
      "execution_count": null,
      "outputs": [
        {
          "output_type": "stream",
          "name": "stdout",
          "text": [
            "wait\n"
          ]
        }
      ]
    },
    {
      "cell_type": "markdown",
      "source": [
        "**Perform Lemmatization**"
      ],
      "metadata": {
        "id": "IfE8VolRmLHQ"
      }
    },
    {
      "cell_type": "code",
      "source": [
        "from nltk.stem import WordNetLemmatizer\n",
        "wordnet_lemmatizer = WordNetLemmatizer()\n",
        "\n",
        "text = \"studies studying cries cry\"\n",
        "\n",
        "tokenization = nltk.word_tokenize(text)\n",
        "\n",
        "for w in tokenization:\n",
        "  print(\"Lemma for {} is {}\".format(w,\n",
        "wordnet_lemmatizer.lemmatize(w)))"
      ],
      "metadata": {
        "colab": {
          "base_uri": "https://localhost:8080/"
        },
        "id": "BzUej0IymOZY",
        "outputId": "d433ded5-63b2-493d-a030-8eddfa7a26f5"
      },
      "execution_count": null,
      "outputs": [
        {
          "output_type": "stream",
          "name": "stdout",
          "text": [
            "Lemma for studies is study\n",
            "Lemma for studying is studying\n",
            "Lemma for cries is cry\n",
            "Lemma for cry is cry\n"
          ]
        }
      ]
    },
    {
      "cell_type": "markdown",
      "source": [
        "**Apply POS Tagging to text**"
      ],
      "metadata": {
        "id": "KcbF_4sEmyCH"
      }
    },
    {
      "cell_type": "code",
      "source": [
        "import nltk\n",
        "from nltk.tokenize import word_tokenize\n",
        "\n",
        "data=\"The pink sweater fit her perfectly\"\n",
        "\n",
        "words=word_tokenize(data)\n",
        "for word in words:\n",
        "  print(nltk.pos_tag([word]))"
      ],
      "metadata": {
        "colab": {
          "base_uri": "https://localhost:8080/"
        },
        "id": "4t0YTHwum1J2",
        "outputId": "0479aadb-2082-498c-b57c-f8a4a829ce64"
      },
      "execution_count": null,
      "outputs": [
        {
          "output_type": "stream",
          "name": "stdout",
          "text": [
            "[('The', 'DT')]\n",
            "[('pink', 'NN')]\n",
            "[('sweater', 'NN')]\n",
            "[('fit', 'NN')]\n",
            "[('her', 'PRP$')]\n",
            "[('perfectly', 'RB')]\n"
          ]
        }
      ]
    },
    {
      "cell_type": "markdown",
      "source": [
        "# Representation of document by calculating TFIDF"
      ],
      "metadata": {
        "id": "p6IM6hVBm_e3"
      }
    },
    {
      "cell_type": "markdown",
      "source": [
        "Initialize the Documents."
      ],
      "metadata": {
        "id": "XHeN9hwCnUwl"
      }
    },
    {
      "cell_type": "code",
      "source": [
        "import pandas as pd\n",
        "from sklearn.feature_extraction.text import TfidfVectorizer"
      ],
      "metadata": {
        "id": "CRT8-3TpnDe1"
      },
      "execution_count": null,
      "outputs": []
    },
    {
      "cell_type": "markdown",
      "source": [
        "Initialize the Documents."
      ],
      "metadata": {
        "id": "HBPMFV9hnSFP"
      }
    },
    {
      "cell_type": "code",
      "source": [
        "documentA = 'Jupiter is the largest Planet'\n",
        "documentB = 'Mars is the fourth planet from the Sun'"
      ],
      "metadata": {
        "id": "wvaUy_nJnQNj"
      },
      "execution_count": null,
      "outputs": []
    },
    {
      "cell_type": "markdown",
      "source": [
        "Create BagofWords (BoW) for Document A and B."
      ],
      "metadata": {
        "id": "U1hS_pe0nXRT"
      }
    },
    {
      "cell_type": "code",
      "source": [
        "bagOfWordsA = documentA.split(' ')\n",
        "bagOfWordsB = documentB.split(' ')"
      ],
      "metadata": {
        "id": "aEmFF-aEnYI0"
      },
      "execution_count": null,
      "outputs": []
    },
    {
      "cell_type": "markdown",
      "source": [
        "Collection of Unique words from Document A and B."
      ],
      "metadata": {
        "id": "JlR48R_PncwJ"
      }
    },
    {
      "cell_type": "code",
      "source": [
        "uniqueWords = set(bagOfWordsA).union(set(bagOfWordsB))"
      ],
      "metadata": {
        "id": "32ZU3tw4ndwU"
      },
      "execution_count": null,
      "outputs": []
    },
    {
      "cell_type": "markdown",
      "source": [
        "dictionary of words and their occurrence for each document in the\n",
        "corpus\n"
      ],
      "metadata": {
        "id": "EZbUHWgZngQs"
      }
    },
    {
      "cell_type": "code",
      "source": [
        "numOfWordsA = dict.fromkeys(uniqueWords, 0)\n",
        "for word in bagOfWordsA:\n",
        "  numOfWordsA[word] += 1\n",
        "  numOfWordsB = dict.fromkeys(uniqueWords, 0)\n",
        "\n",
        "for word in bagOfWordsB:\n",
        "  numOfWordsB[word] += 1"
      ],
      "metadata": {
        "id": "pDPBVk4Nnm-1"
      },
      "execution_count": null,
      "outputs": []
    },
    {
      "cell_type": "markdown",
      "source": [
        "Compute the term frequency for each of our documents."
      ],
      "metadata": {
        "id": "zLNSS6nHny5l"
      }
    },
    {
      "cell_type": "code",
      "source": [
        "def computeTF(wordDict, bagOfWords):\n",
        "  tfDict = {}\n",
        "  bagOfWordsCount = len(bagOfWords)\n",
        "  for word, count in wordDict.items():\n",
        "    tfDict[word] = count / float(bagOfWordsCount)\n",
        "    return tfDict\n",
        "tfA = computeTF(numOfWordsA, bagOfWordsA)\n",
        "tfB = computeTF(numOfWordsB, bagOfWordsB)"
      ],
      "metadata": {
        "id": "IGt6xEyxnz_0"
      },
      "execution_count": null,
      "outputs": []
    },
    {
      "cell_type": "markdown",
      "source": [
        "Compute the term Inverse Document Frequency."
      ],
      "metadata": {
        "id": "B-TLhgXHoh3O"
      }
    },
    {
      "cell_type": "code",
      "source": [
        "def computeIDF(documents):\n",
        "  import math\n",
        "  N = len(documents)\n",
        "\n",
        "  idfDict = dict.fromkeys(documents[0].keys(), 0)\n",
        "  for document in documents:\n",
        "    for word, val in document.items():\n",
        "      if val > 0:\n",
        "        idfDict[word] += 1\n",
        "\n",
        "  for word, val in idfDict.items():\n",
        "    idfDict[word] = math.log(N / float(val))\n",
        "  return idfDict\n"
      ],
      "metadata": {
        "id": "SPoZQ0f7ohg0"
      },
      "execution_count": null,
      "outputs": []
    },
    {
      "cell_type": "code",
      "source": [
        "idfs = computeIDF([numOfWordsA, numOfWordsB])\n",
        "idfs"
      ],
      "metadata": {
        "colab": {
          "base_uri": "https://localhost:8080/"
        },
        "id": "NvQ2yUPMqArR",
        "outputId": "2af5a895-2fca-4be0-9dfd-d18a1db68c4d"
      },
      "execution_count": null,
      "outputs": [
        {
          "output_type": "execute_result",
          "data": {
            "text/plain": [
              "{'is': 0.0,\n",
              " 'Mars': 0.6931471805599453,\n",
              " 'from': 0.6931471805599453,\n",
              " 'fourth': 0.6931471805599453,\n",
              " 'the': 0.0,\n",
              " 'largest': 0.6931471805599453,\n",
              " 'planet': 0.6931471805599453,\n",
              " 'Sun': 0.6931471805599453,\n",
              " 'Planet': 0.6931471805599453,\n",
              " 'Jupiter': 0.6931471805599453}"
            ]
          },
          "metadata": {},
          "execution_count": 54
        }
      ]
    },
    {
      "cell_type": "markdown",
      "source": [
        "Compute the term TF/IDF for all words."
      ],
      "metadata": {
        "id": "mvd18wwspx1K"
      }
    },
    {
      "cell_type": "code",
      "source": [
        "def computeTFIDF(tfBagOfWords, idfs):\n",
        "    tfidf = {}\n",
        "    for word, val in tfBagOfWords.items():\n",
        "        tfidf[word] = val * idfs[word]\n",
        "    return tfidf\n",
        "tfidfA = computeTFIDF(tfA, idfs)\n",
        "tfidfB = computeTFIDF(tfB, idfs)\n",
        "df = pd.DataFrame([tfidfA, tfidfB])\n",
        "print(df)"
      ],
      "metadata": {
        "colab": {
          "base_uri": "https://localhost:8080/"
        },
        "id": "5twDV5h9q4Zx",
        "outputId": "7b41e027-fc9a-442c-e5d9-65ba05c7ef73"
      },
      "execution_count": null,
      "outputs": [
        {
          "output_type": "stream",
          "name": "stdout",
          "text": [
            "    is\n",
            "0  0.0\n",
            "1  0.0\n"
          ]
        }
      ]
    },
    {
      "cell_type": "code",
      "source": [
        "sen1='my name is akshada kakade'\n",
        "sen2='student at aissms coe pune fir engineering in cs. A third year student passinoate to rock the flore with dancing!!!.'"
      ],
      "metadata": {
        "id": "4wNipTcJmAMa"
      },
      "execution_count": null,
      "outputs": []
    },
    {
      "cell_type": "code",
      "source": [
        "import nltk\n",
        "from nltk import word_tokenize, sent_tokenize\n",
        "print('Tokenized words:', word_tokenize(sen1))\n",
        "print('Tokenized sentence:', sent_tokenize(sen2))"
      ],
      "metadata": {
        "colab": {
          "base_uri": "https://localhost:8080/"
        },
        "id": "8lduhlTymONH",
        "outputId": "11916f09-57af-4916-b5a0-ab35e3ef349d"
      },
      "execution_count": null,
      "outputs": [
        {
          "output_type": "stream",
          "name": "stdout",
          "text": [
            "Tokenized words: ['my', 'name', 'is', 'akshada', 'kakade']\n",
            "Tokenized sentence: ['student at aissms coe pune fir engineering in cs.', 'A third year student passinoate to rock the flore with dancing.']\n"
          ]
        }
      ]
    },
    {
      "cell_type": "code",
      "source": [
        "\n",
        "import nltk\n",
        "nltk.download('punkt')\n",
        "from nltk.tokenize import word_tokenize\n",
        "\n",
        "# Define the sentence to tokenize\n",
        "sen1 = \"This is an example sentence for tokenization.\"\n",
        "\n",
        "# Tokenize the sentence\n",
        "tokenized_words = word_tokenize(sen1)\n",
        "print('Tokenized words:', tokenized_words)\n"
      ],
      "metadata": {
        "colab": {
          "base_uri": "https://localhost:8080/"
        },
        "id": "tCyz3ijima4o",
        "outputId": "0fa4fef5-271c-484d-f653-5504e747c1d0"
      },
      "execution_count": null,
      "outputs": [
        {
          "output_type": "stream",
          "name": "stdout",
          "text": [
            "Tokenized words: ['This', 'is', 'an', 'example', 'sentence', 'for', 'tokenization', '.']\n"
          ]
        },
        {
          "output_type": "stream",
          "name": "stderr",
          "text": [
            "[nltk_data] Downloading package punkt to /root/nltk_data...\n",
            "[nltk_data]   Package punkt is already up-to-date!\n"
          ]
        }
      ]
    },
    {
      "cell_type": "code",
      "source": [
        "nltk.download('stopwords')\n",
        "from nltk.corpus import stopwords\n"
      ],
      "metadata": {
        "colab": {
          "base_uri": "https://localhost:8080/",
          "height": 228
        },
        "id": "KzE4NCU-m770",
        "outputId": "e60c8f8a-dd05-4c2d-d0e9-ff393154cf5e"
      },
      "execution_count": null,
      "outputs": [
        {
          "output_type": "stream",
          "name": "stderr",
          "text": [
            "[nltk_data] Downloading package stopwords to /root/nltk_data...\n",
            "[nltk_data]   Package stopwords is already up-to-date!\n"
          ]
        },
        {
          "output_type": "error",
          "ename": "TypeError",
          "evalue": "'WordListCorpusReader' object is not callable",
          "traceback": [
            "\u001b[0;31m---------------------------------------------------------------------------\u001b[0m",
            "\u001b[0;31mTypeError\u001b[0m                                 Traceback (most recent call last)",
            "\u001b[0;32m<ipython-input-25-a8b763d8810f>\u001b[0m in \u001b[0;36m<cell line: 4>\u001b[0;34m()\u001b[0m\n\u001b[1;32m      2\u001b[0m \u001b[0;32mfrom\u001b[0m \u001b[0mnltk\u001b[0m\u001b[0;34m.\u001b[0m\u001b[0mcorpus\u001b[0m \u001b[0;32mimport\u001b[0m \u001b[0mstopwords\u001b[0m\u001b[0;34m\u001b[0m\u001b[0;34m\u001b[0m\u001b[0m\n\u001b[1;32m      3\u001b[0m \u001b[0;34m\u001b[0m\u001b[0m\n\u001b[0;32m----> 4\u001b[0;31m \u001b[0msw\u001b[0m \u001b[0;34m=\u001b[0m \u001b[0mstopwords\u001b[0m\u001b[0;34m(\u001b[0m\u001b[0;34m'english'\u001b[0m\u001b[0;34m)\u001b[0m\u001b[0;34m\u001b[0m\u001b[0;34m\u001b[0m\u001b[0m\n\u001b[0m\u001b[1;32m      5\u001b[0m \u001b[0mprint\u001b[0m\u001b[0;34m(\u001b[0m\u001b[0msw\u001b[0m\u001b[0;34m)\u001b[0m\u001b[0;34m\u001b[0m\u001b[0;34m\u001b[0m\u001b[0m\n",
            "\u001b[0;31mTypeError\u001b[0m: 'WordListCorpusReader' object is not callable"
          ]
        }
      ]
    },
    {
      "cell_type": "code",
      "source": [
        "sw = stopwords.words('english')\n",
        "print(sw)"
      ],
      "metadata": {
        "colab": {
          "base_uri": "https://localhost:8080/"
        },
        "id": "KjGbuACvr7G3",
        "outputId": "b5330a91-5bb6-4bd3-8ab2-ceb84ee75ee6"
      },
      "execution_count": null,
      "outputs": [
        {
          "output_type": "stream",
          "name": "stdout",
          "text": [
            "['i', 'me', 'my', 'myself', 'we', 'our', 'ours', 'ourselves', 'you', \"you're\", \"you've\", \"you'll\", \"you'd\", 'your', 'yours', 'yourself', 'yourselves', 'he', 'him', 'his', 'himself', 'she', \"she's\", 'her', 'hers', 'herself', 'it', \"it's\", 'its', 'itself', 'they', 'them', 'their', 'theirs', 'themselves', 'what', 'which', 'who', 'whom', 'this', 'that', \"that'll\", 'these', 'those', 'am', 'is', 'are', 'was', 'were', 'be', 'been', 'being', 'have', 'has', 'had', 'having', 'do', 'does', 'did', 'doing', 'a', 'an', 'the', 'and', 'but', 'if', 'or', 'because', 'as', 'until', 'while', 'of', 'at', 'by', 'for', 'with', 'about', 'against', 'between', 'into', 'through', 'during', 'before', 'after', 'above', 'below', 'to', 'from', 'up', 'down', 'in', 'out', 'on', 'off', 'over', 'under', 'again', 'further', 'then', 'once', 'here', 'there', 'when', 'where', 'why', 'how', 'all', 'any', 'both', 'each', 'few', 'more', 'most', 'other', 'some', 'such', 'no', 'nor', 'not', 'only', 'own', 'same', 'so', 'than', 'too', 'very', 's', 't', 'can', 'will', 'just', 'don', \"don't\", 'should', \"should've\", 'now', 'd', 'll', 'm', 'o', 're', 've', 'y', 'ain', 'aren', \"aren't\", 'couldn', \"couldn't\", 'didn', \"didn't\", 'doesn', \"doesn't\", 'hadn', \"hadn't\", 'hasn', \"hasn't\", 'haven', \"haven't\", 'isn', \"isn't\", 'ma', 'mightn', \"mightn't\", 'mustn', \"mustn't\", 'needn', \"needn't\", 'shan', \"shan't\", 'shouldn', \"shouldn't\", 'wasn', \"wasn't\", 'weren', \"weren't\", 'won', \"won't\", 'wouldn', \"wouldn't\"]\n"
          ]
        }
      ]
    },
    {
      "cell_type": "code",
      "source": [
        "from tkinter.constants import S\n",
        "token =word_tokenize(sen2)\n",
        "c_text=[]\n",
        "for i in token:\n",
        "  if i not in sw:\n",
        "    c_text.append(i)\n",
        "\n",
        "print('uncorrected' ,token)\n",
        "print('corrected' ,c_text)"
      ],
      "metadata": {
        "colab": {
          "base_uri": "https://localhost:8080/"
        },
        "id": "E4i9Piu1sJDg",
        "outputId": "33fb8402-d9a2-4765-f35a-9d8dc28d51a0"
      },
      "execution_count": null,
      "outputs": [
        {
          "output_type": "stream",
          "name": "stdout",
          "text": [
            "uncorrected ['student', 'at', 'aissms', 'coe', 'pune', 'fir', 'engineering', 'in', 'cs', '.', 'A', 'third', 'year', 'student', 'passinoate', 'to', 'rock', 'the', 'flore', 'with', 'dancing', '!', '!', '!', '.']\n",
            "corrected ['student', 'aissms', 'coe', 'pune', 'fir', 'engineering', 'cs', '.', 'A', 'third', 'year', 'student', 'passinoate', 'rock', 'flore', 'dancing', '!', '!', '!', '.']\n"
          ]
        }
      ]
    },
    {
      "cell_type": "code",
      "source": [
        "wp =[c_text.lower() for c_text in c_text if c_text.isalpha()]"
      ],
      "metadata": {
        "id": "PW_ZJFvLtJN3"
      },
      "execution_count": null,
      "outputs": []
    },
    {
      "cell_type": "code",
      "source": [
        "print(wp)"
      ],
      "metadata": {
        "colab": {
          "base_uri": "https://localhost:8080/"
        },
        "id": "Z0vVgjyKtyh2",
        "outputId": "9b49d465-e561-40d6-8991-e7a37949b5c7"
      },
      "execution_count": null,
      "outputs": [
        {
          "output_type": "stream",
          "name": "stdout",
          "text": [
            "['student', 'aissms', 'coe', 'pune', 'fir', 'engineering', 'cs', 'a', 'third', 'year', 'student', 'passinoate', 'rock', 'flore', 'dancing']\n"
          ]
        }
      ]
    },
    {
      "cell_type": "code",
      "source": [
        "from nltk.stem import PorterStemmer\n",
        "token= word_tokenize(sen2)\n",
        "ps=PorterStemmer()\n",
        "for w in token:\n",
        "  rt=ps.stem(w)\n",
        "print(\"\".join(rt))"
      ],
      "metadata": {
        "colab": {
          "base_uri": "https://localhost:8080/"
        },
        "id": "18LE9VR8uUv8",
        "outputId": "ac9fad88-03d7-4e44-8434-a00b7a8cba06"
      },
      "execution_count": null,
      "outputs": [
        {
          "output_type": "stream",
          "name": "stdout",
          "text": [
            ".\n"
          ]
        }
      ]
    },
    {
      "cell_type": "code",
      "source": [
        "from nltk.stem import PorterStemmer\n",
        "token= word_tokenize(sen2)\n",
        "ps=PorterStemmer()\n",
        "rt=[ps.stem(w) for w in token]\n",
        "\n",
        "print(\" \".join(rt))"
      ],
      "metadata": {
        "id": "-ls_wfevyDiI"
      },
      "execution_count": null,
      "outputs": []
    },
    {
      "cell_type": "code",
      "source": [
        "from nltk.stem import PorterStemmer\n",
        "stemmer = PorterStemmer()\n",
        "token = word_tokenize(sen2)\n",
        "stemmed = [stemmer.stem(word) for word in token]\n",
        "print(\" \".join(stemmed))"
      ],
      "metadata": {
        "colab": {
          "base_uri": "https://localhost:8080/"
        },
        "id": "jZtoGJIbvxwN",
        "outputId": "7fd0b730-3c63-477c-eb66-ca20c9acba3c"
      },
      "execution_count": null,
      "outputs": [
        {
          "output_type": "stream",
          "name": "stdout",
          "text": [
            "student at aissm coe pune fir engin in cs . a third year student passino to rock the flore with danc ! ! ! .\n"
          ]
        }
      ]
    },
    {
      "cell_type": "code",
      "source": [
        "import nltk\n",
        "nltk.download('averaged_perceptron_tagger')\n",
        "from nltk import pos_tag\n",
        "token = word_tokenize(sen1)\n",
        "tagged = pos_tag(token)\n",
        "print(\"Tagging Parts of Speech:\", tagged)"
      ],
      "metadata": {
        "colab": {
          "base_uri": "https://localhost:8080/"
        },
        "id": "5wcVwR1CwbH_",
        "outputId": "d3112780-655f-436d-a9bc-c06696a2b9ae"
      },
      "execution_count": null,
      "outputs": [
        {
          "output_type": "stream",
          "name": "stderr",
          "text": [
            "[nltk_data] Downloading package averaged_perceptron_tagger to\n",
            "[nltk_data]     /root/nltk_data...\n",
            "[nltk_data]   Unzipping taggers/averaged_perceptron_tagger.zip.\n"
          ]
        },
        {
          "output_type": "stream",
          "name": "stdout",
          "text": [
            "Tagging Parts of Speech: [('my', 'PRP$'), ('name', 'NN'), ('is', 'VBZ'), ('akshada', 'JJ'), ('kakade', 'NN')]\n"
          ]
        }
      ]
    },
    {
      "cell_type": "code",
      "source": [],
      "metadata": {
        "id": "eYmIEqGCyh--"
      },
      "execution_count": null,
      "outputs": []
    }
  ]
}